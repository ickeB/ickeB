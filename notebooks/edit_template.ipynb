{
 "cells": [
  {
   "cell_type": "code",
   "execution_count": null,
   "metadata": {
    "vscode": {
     "languageId": "plaintext"
    }
   },
   "outputs": [],
   "source": [
    "import os\n",
    "\n",
    "# Wähle die Datei aus, die bearbeitet werden soll\n",
    "file_path = \"../wfs_templates/template_1.yaml\"\n",
    "\n",
    "# Lade den Inhalt der Datei\n",
    "with open(file_path, \"r\") as file:\n",
    "    content = file.read()\n",
    "\n",
    "# Zeige die Datei in einer Textarea zur Bearbeitung\n",
    "from IPython.display import display, HTML\n",
    "from ipywidgets import Textarea, Button, VBox\n",
    "\n",
    "text_area = Textarea(value=content, layout={\"width\": \"800px\", \"height\": \"400px\"})\n",
    "\n",
    "def save_changes(change):\n",
    "    with open(file_path, \"w\") as file:\n",
    "        file.write(text_area.value)\n",
    "    print(\"Änderungen gespeichert!\")\n",
    "\n",
    "save_button = Button(description=\"Speichern\")\n",
    "save_button.on_click(save_changes)\n",
    "\n",
    "display(VBox([text_area, save_button]))"
   ]
  }
 ],
 "metadata": {
  "language_info": {
   "name": "python"
  }
 },
 "nbformat": 4,
 "nbformat_minor": 2
}
