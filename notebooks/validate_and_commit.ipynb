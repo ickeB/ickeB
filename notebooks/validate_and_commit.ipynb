{
 "cells": [
  {
   "cell_type": "code",
   "execution_count": null,
   "metadata": {
    "vscode": {
     "languageId": "plaintext"
    }
   },
   "outputs": [],
   "source": [
    "import json\n",
    "import yaml\n",
    "from jsonschema import validate, ValidationError\n",
    "\n",
    "# Lade Schema\n",
    "with open(\"../wfs_templates/schema.json\", \"r\") as schema_file:\n",
    "    schema = json.load(schema_file)\n",
    "\n",
    "# Lade geändertes Template\n",
    "with open(\"../wfs_templates/template_1.yaml\", \"r\") as file:\n",
    "    template = yaml.safe_load(file)\n",
    "\n",
    "# Validierung\n",
    "try:\n",
    "    validate(instance=template, schema=schema)\n",
    "    print(\"Template ist gültig!\")\n",
    "except ValidationError as e:\n",
    "    print(\"Validierungsfehler:\", e.message)"
   ]
  }
 ],
 "metadata": {
  "language_info": {
   "name": "python"
  }
 },
 "nbformat": 4,
 "nbformat_minor": 2
}
