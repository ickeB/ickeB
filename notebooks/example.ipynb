{
 "cells": [
  {
   "cell_type": "code",
   "execution_count": null,
   "metadata": {
    "vscode": {
     "languageId": "plaintext"
    }
   },
   "outputs": [],
   "source": [
    "import yaml\n",
    "import git\n",
    "from jsonschema import validate\n",
    "\n",
    "# Beispiel für YAML-Daten\n",
    "config = {\"service\": {\"title\": \"Test WFS\"}, \"layers\": [{\"crs\": \"EPSG:25832\"}]}\n",
    "schema = {\"type\": \"object\", \"properties\": {\"service\": {\"type\": \"object\"}}}\n",
    "\n",
    "validate(instance=config, schema=schema)\n",
    "print(\"Validation successful!\")"
   ]
  }
 ],
 "metadata": {
  "language_info": {
   "name": "python"
  }
 },
 "nbformat": 4,
 "nbformat_minor": 2
}
